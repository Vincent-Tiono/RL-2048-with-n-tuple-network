{
 "cells": [
  {
   "cell_type": "code",
   "execution_count": null,
   "metadata": {},
   "outputs": [],
   "source": [
    "from game import Board\n",
    "from main import load_agent\n",
    "from pathlib import Path\n",
    "ngame, agent = load_agent(Path('/Users/hengyue/Documents/1. py/RL 2048/tmp/nTupleNewrok_100157games.pkl'))"
   ]
  },
  {
   "cell_type": "code",
   "execution_count": null,
   "metadata": {},
   "outputs": [],
   "source": [
    "import time\n",
    "from IPython.display import display, clear_output"
   ]
  },
  {
   "cell_type": "code",
   "execution_count": null,
   "metadata": {},
   "outputs": [],
   "source": [
    "b = Board()\n",
    "nstep = 0\n",
    "rgame = 0\n",
    "while True:\n",
    "    a = agent.best_action(b.board)\n",
    "    rgame += b.act(a)\n",
    "    future_r = agent.V(b.board)\n",
    "    nstep += 1\n",
    "    b.spawn_tile()\n",
    "    clear_output(wait=True)\n",
    "    print('Agent expects to reach score: {:.0f}'.format(rgame + future_r))\n",
    "    print('Score: {}, Steps: {}, Max tile: {}.'.format(rgame, nstep, 2**max(b.board)))\n",
    "    print()\n",
    "    b.display()\n",
    "    time.sleep(0.1)"
   ]
  }
 ],
 "metadata": {
  "kernelspec": {
   "display_name": "2048",
   "language": "python",
   "name": "2048"
  },
  "language_info": {
   "codemirror_mode": {
    "name": "ipython",
    "version": 3
   },
   "file_extension": ".py",
   "mimetype": "text/x-python",
   "name": "python",
   "nbconvert_exporter": "python",
   "pygments_lexer": "ipython3",
   "version": "3.9.6"
  }
 },
 "nbformat": 4,
 "nbformat_minor": 4
}
