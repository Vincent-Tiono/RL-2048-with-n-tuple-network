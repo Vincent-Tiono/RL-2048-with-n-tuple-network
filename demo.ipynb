{
 "cells": [
  {
   "cell_type": "code",
   "execution_count": 6,
   "metadata": {},
   "outputs": [],
   "source": [
    "from train_1D_grid import Game2048Env, nTupleNewrok\n",
    "from train_1D_grid import load_agent\n",
    "from pathlib import Path\n",
    "ngame, agent = load_agent(Path('new.pkl'))"
   ]
  },
  {
   "cell_type": "code",
   "execution_count": 7,
   "metadata": {},
   "outputs": [],
   "source": [
    "import time\n",
    "from IPython.display import display, clear_output"
   ]
  },
  {
   "cell_type": "code",
   "execution_count": 9,
   "metadata": {},
   "outputs": [
    {
     "name": "stdout",
     "output_type": "stream",
     "text": [
      "Agent expects to reach score: 3239\n",
      "Score: 484, Steps: 59, Max tile: 64.\n",
      "\n",
      "   8  64  32   8\n",
      "   2   2   4   2\n",
      "   0   0   0   0\n",
      "   0   0   0   0\n"
     ]
    },
    {
     "ename": "KeyboardInterrupt",
     "evalue": "",
     "output_type": "error",
     "traceback": [
      "\u001b[0;31m---------------------------------------------------------------------------\u001b[0m",
      "\u001b[0;31mKeyboardInterrupt\u001b[0m                         Traceback (most recent call last)",
      "Cell \u001b[0;32mIn[9], line 15\u001b[0m\n\u001b[1;32m     13\u001b[0m \u001b[38;5;28mprint\u001b[39m()\n\u001b[1;32m     14\u001b[0m b\u001b[38;5;241m.\u001b[39mdisplay()\n\u001b[0;32m---> 15\u001b[0m \u001b[43mtime\u001b[49m\u001b[38;5;241;43m.\u001b[39;49m\u001b[43msleep\u001b[49m\u001b[43m(\u001b[49m\u001b[38;5;241;43m0.1\u001b[39;49m\u001b[43m)\u001b[49m\n",
      "\u001b[0;31mKeyboardInterrupt\u001b[0m: "
     ]
    }
   ],
   "source": [
    "b = Game2048Env()\n",
    "nstep = 0\n",
    "rgame = 0\n",
    "while True:\n",
    "    a = agent.best_action(b.board)\n",
    "    rgame += b.act(a)\n",
    "    future_r = agent.V(b.board)\n",
    "    nstep += 1\n",
    "    b.spawn_tile()\n",
    "    clear_output(wait=True)\n",
    "    print('Agent expects to reach score: {:.0f}'.format(rgame + future_r))\n",
    "    print('Score: {}, Steps: {}, Max tile: {}.'.format(rgame, nstep, max(b.board)))\n",
    "    print()\n",
    "    b.display()\n",
    "    time.sleep(0.1)"
   ]
  }
 ],
 "metadata": {
  "kernelspec": {
   "display_name": "Python 3",
   "language": "python",
   "name": "python3"
  },
  "language_info": {
   "codemirror_mode": {
    "name": "ipython",
    "version": 3
   },
   "file_extension": ".py",
   "mimetype": "text/x-python",
   "name": "python",
   "nbconvert_exporter": "python",
   "pygments_lexer": "ipython3",
   "version": "3.12.6"
  }
 },
 "nbformat": 4,
 "nbformat_minor": 4
}
